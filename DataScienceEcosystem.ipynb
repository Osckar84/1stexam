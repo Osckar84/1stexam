{
 "cells": [
  {
   "cell_type": "markdown",
   "id": "c24052fe-955c-4566-8061-70a929c36f63",
   "metadata": {},
   "source": [
    "# Data Science Tools and Ecosystem"
   ]
  },
  {
   "cell_type": "markdown",
   "id": "ad6f87ec-fe24-49a4-9e0b-793245ffa875",
   "metadata": {},
   "source": [
    "En este cuadro, se resumen las herramientas y ecosistemas de ciencia de datos."
   ]
  },
  {
   "cell_type": "markdown",
   "id": "cd514a9e-9ed2-4b9e-8a85-8e127642c49e",
   "metadata": {},
   "source": [
    "**Objetivos:**\n",
    "- Usar diferentes niveles de encabezados en los markdown (H1, H2, H3, etc)\n",
    "- Listar lenguajes populares para la Ciencia de Datos\n",
    "- Enumerar algunas de las bibliotecas más comunes para la Ciencia de Datos\n",
    "- Crear una tabla con las Herramientas de codigo abierto más utilizadas en la Ciencia de Datos\n",
    "- Presentar algunos ejemplos de expresiones aritméticas en Python, agregando antes una pequeña descripcion de lo que va a hacer nuestro codigo"
   ]
  },
  {
   "cell_type": "markdown",
   "id": "3e44bafa-d0fb-485e-879d-3dce3411cd9e",
   "metadata": {},
   "source": [
    "Algunos de los lenguajes populares que utilizan los cientificos de datos son:\n",
    "1. Python\n",
    "2. R\n",
    "3. SQL\n",
    "4. Julia\n",
    "5. Scala\n"
   ]
  },
  {
   "cell_type": "markdown",
   "id": "302d7007-9330-4ba9-8084-e79342b46938",
   "metadata": {},
   "source": [
    "Algunas bibliotecas comúnmente utilizadas por los cientificos de datos incluyen:\n",
    "1. Pandas\n",
    "2. Numpy\n",
    "3. Matplotlib\n",
    "4. Seaborn\n",
    "5. Scikit-Learn\n",
    "6. Keras\n",
    "7. Tensorflow"
   ]
  },
  {
   "cell_type": "markdown",
   "id": "8267d4fe-7d5b-43b9-bcb5-e0ea3d837961",
   "metadata": {},
   "source": [
    "| Herramientas de Ciencia de Datos |\n",
    "|---------------------------------|\n",
    "| MySQL|\n",
    "| Apache AirFlow|\n",
    "| Pixie Dust|"
   ]
  },
  {
   "cell_type": "markdown",
   "id": "3ed1f027-5684-4e86-b8a0-4e7b32ba1483",
   "metadata": {},
   "source": [
    "### A continuación, se presentan algunos ejemplos de evaluación de expresiones aritméticas en Python"
   ]
  },
  {
   "cell_type": "code",
   "execution_count": 17,
   "id": "6c4c4001-9a04-4f29-86ca-4d68c4daf92e",
   "metadata": {},
   "outputs": [
    {
     "data": {
      "text/plain": [
       "17"
      ]
     },
     "execution_count": 17,
     "metadata": {},
     "output_type": "execute_result"
    }
   ],
   "source": [
    "# Esta es una expresión aritmética simple para multiplicar y luego sumar enteros\n",
    "(3*4)+5"
   ]
  },
  {
   "cell_type": "code",
   "execution_count": 19,
   "id": "c9f58c12-78af-422f-9ae9-4ed523da3d27",
   "metadata": {},
   "outputs": [
    {
     "data": {
      "text/plain": [
       "3.3333333333333335"
      ]
     },
     "execution_count": 19,
     "metadata": {},
     "output_type": "execute_result"
    }
   ],
   "source": [
    "# Esto convertirá 200 minutos a horas dividiendo por 60\n",
    "200/60"
   ]
  },
  {
   "cell_type": "markdown",
   "id": "eb16be6e-9592-4bfb-8575-d9504c578058",
   "metadata": {},
   "source": [
    "## Autor:\n",
    "Oscar de Miguel Nieves"
   ]
  },
  {
   "cell_type": "code",
   "execution_count": null,
   "id": "51182e24-bd24-46ef-bece-97147d0ba115",
   "metadata": {},
   "outputs": [],
   "source": []
  }
 ],
 "metadata": {
  "kernelspec": {
   "display_name": "Python [conda env:base] *",
   "language": "python",
   "name": "conda-base-py"
  },
  "language_info": {
   "codemirror_mode": {
    "name": "ipython",
    "version": 3
   },
   "file_extension": ".py",
   "mimetype": "text/x-python",
   "name": "python",
   "nbconvert_exporter": "python",
   "pygments_lexer": "ipython3",
   "version": "3.12.7"
  }
 },
 "nbformat": 4,
 "nbformat_minor": 5
}
